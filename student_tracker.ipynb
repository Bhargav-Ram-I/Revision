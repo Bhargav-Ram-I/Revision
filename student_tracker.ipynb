{
 "cells": [
  {
   "cell_type": "code",
   "execution_count": null,
   "id": "fb2a5ce4-42fa-49a3-a3ea-393e21f20ff4",
   "metadata": {},
   "outputs": [
    {
     "name": "stdout",
     "output_type": "stream",
     "text": [
      "1. Add Student\n",
      "2. Show All Students\n",
      "3. Average Marks\n",
      "4. Save to CSV\n",
      "5. Exit\n"
     ]
    }
   ],
   "source": [
    "import csv\n",
    "\n",
    "students = []\n",
    "\n",
    "def add_student():\n",
    "    name = input(\"Enter student name: \")\n",
    "    roll = input(\"Enter roll number: \")\n",
    "    try:\n",
    "        marks1 = float(input(\"Enter marks for Subject 1: \"))\n",
    "        marks2 = float(input(\"Enter marks for Subject 2: \"))\n",
    "        marks3 = float(input(\"Enter marks for Subject 3: \"))\n",
    "        student = [name, roll, marks1, marks2, marks3]\n",
    "        students.append(student)\n",
    "        print(\"Student added!\\n\")\n",
    "    except ValueError:\n",
    "        print(\"Please enter valid numbers for marks.\\n\")\n",
    "\n",
    "def show_students():\n",
    "    if not students:\n",
    "        print(\"No records found.\\n\")\n",
    "        return\n",
    "    for s in students:\n",
    "        print(f\"Name: {s[0]}, Roll: {s[1]}, Marks: {s[2]}, {s[3]}, {s[4]}\")\n",
    "    print()\n",
    "\n",
    "def average_marks():\n",
    "    if not students:\n",
    "        print(\"No records to calculate.\\n\")\n",
    "        return\n",
    "    for s in students:\n",
    "        avg = (s[2] + s[3] + s[4]) / 3\n",
    "        print(f\"{s[0]} (Roll: {s[1]}) - Average: {avg:.2f}\")\n",
    "    print()\n",
    "\n",
    "def save_to_csv():\n",
    "    with open(\"students.csv\", \"w\", newline=\"\") as f:\n",
    "        writer = csv.writer(f)\n",
    "        writer.writerow([\"Name\", \"Roll\", \"Subject1\", \"Subject2\", \"Subject3\"])\n",
    "        writer.writerows(students)\n",
    "    print(\"Data saved to students.csv\\n\")\n",
    "\n",
    "def menu():\n",
    "    while True:\n",
    "        print(\"1. Add Student\")\n",
    "        print(\"2. Show All Students\")\n",
    "        print(\"3. Average Marks\")\n",
    "        print(\"4. Save to CSV\")\n",
    "        print(\"5. Exit\")\n",
    "        choice = input(\"Choose option (1-5): \")\n",
    "        if choice == \"1\":\n",
    "            add_student()\n",
    "        elif choice == \"2\":\n",
    "            show_students()\n",
    "        elif choice == \"3\":\n",
    "            average_marks()\n",
    "        elif choice == \"4\":\n",
    "            save_to_csv()\n",
    "        elif choice == \"5\":\n",
    "            print(\"Bye!\")\n",
    "            break\n",
    "        else:\n",
    "            print(\"Invalid choice.\\n\")\n",
    "\n",
    "menu()\n"
   ]
  },
  {
   "cell_type": "code",
   "execution_count": null,
   "id": "21d01e1f-255f-4aff-9f4d-27fab0bfabb3",
   "metadata": {},
   "outputs": [],
   "source": []
  }
 ],
 "metadata": {
  "kernelspec": {
   "display_name": "Python 3 (ipykernel)",
   "language": "python",
   "name": "python3"
  },
  "language_info": {
   "codemirror_mode": {
    "name": "ipython",
    "version": 3
   },
   "file_extension": ".py",
   "mimetype": "text/x-python",
   "name": "python",
   "nbconvert_exporter": "python",
   "pygments_lexer": "ipython3",
   "version": "3.12.4"
  }
 },
 "nbformat": 4,
 "nbformat_minor": 5
}
